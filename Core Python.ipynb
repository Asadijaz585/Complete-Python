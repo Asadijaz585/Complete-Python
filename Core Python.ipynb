{
 "cells": [
  {
   "cell_type": "code",
   "execution_count": 1,
   "id": "1064d92e",
   "metadata": {},
   "outputs": [
    {
     "data": {
      "text/plain": [
       "4"
      ]
     },
     "execution_count": 1,
     "metadata": {},
     "output_type": "execute_result"
    }
   ],
   "source": [
    "2+2"
   ]
  },
  {
   "cell_type": "code",
   "execution_count": 2,
   "id": "1f1b8fc1",
   "metadata": {},
   "outputs": [
    {
     "name": "stdout",
     "output_type": "stream",
     "text": [
      "Hello World\n"
     ]
    }
   ],
   "source": [
    "print(\"Hello World\")"
   ]
  },
  {
   "cell_type": "code",
   "execution_count": 3,
   "id": "8be2cf44",
   "metadata": {},
   "outputs": [
    {
     "name": "stdout",
     "output_type": "stream",
     "text": [
      "What is your name?\n",
      "Asad Ijaz\n",
      "Nice to meet you  Asad Ijaz\n"
     ]
    }
   ],
   "source": [
    "Name= input(\"What is your name?\\n\")\n",
    "print(\"Nice to meet you \",Name)"
   ]
  },
  {
   "cell_type": "code",
   "execution_count": 4,
   "id": "1e19eef4",
   "metadata": {},
   "outputs": [
    {
     "name": "stdout",
     "output_type": "stream",
     "text": [
      "ok\n",
      "Hello World\n",
      "What is your name?\n",
      "Asad Ijaz\n",
      "Nice to meet you  Asad Ijaz\n"
     ]
    }
   ],
   "source": [
    "def aa():\n",
    "    print(\"Hello World\")\n",
    "    Name= input(\"What is your name?\\n\")\n",
    "    print(\"Nice to meet you \",Name)\n",
    "\n",
    "def eee():\n",
    "    print(\"ok\")\n",
    "\n",
    "if __name__ == \"__main__\":\n",
    "    eee()\n",
    "    aa()"
   ]
  },
  {
   "cell_type": "code",
   "execution_count": 34,
   "id": "bebc33f7",
   "metadata": {},
   "outputs": [
    {
     "name": "stdout",
     "output_type": "stream",
     "text": [
      "0\n"
     ]
    }
   ],
   "source": [
    "f=0\n",
    "print(f)"
   ]
  },
  {
   "cell_type": "code",
   "execution_count": 35,
   "id": "fd09492a",
   "metadata": {},
   "outputs": [
    {
     "name": "stdout",
     "output_type": "stream",
     "text": [
      "abd\n"
     ]
    }
   ],
   "source": [
    "f='abd'\n",
    "print(f)"
   ]
  },
  {
   "cell_type": "code",
   "execution_count": 36,
   "id": "510225fb",
   "metadata": {},
   "outputs": [
    {
     "name": "stdout",
     "output_type": "stream",
     "text": [
      "hh...123\n"
     ]
    }
   ],
   "source": [
    "print(\"hh...\" + str(123))"
   ]
  },
  {
   "cell_type": "markdown",
   "id": "0d9c76a3",
   "metadata": {},
   "source": [
    "# Global vs local Variable in function"
   ]
  },
  {
   "cell_type": "code",
   "execution_count": 37,
   "id": "bd190f83",
   "metadata": {},
   "outputs": [
    {
     "name": "stdout",
     "output_type": "stream",
     "text": [
      "def\n",
      "abd\n"
     ]
    }
   ],
   "source": [
    "def somefun():\n",
    "    f=\"def\"\n",
    "    print(f)\n",
    "    \n",
    "somefun()\n",
    "print(f) #local variable"
   ]
  },
  {
   "cell_type": "code",
   "execution_count": 32,
   "id": "16b57880",
   "metadata": {},
   "outputs": [
    {
     "name": "stdout",
     "output_type": "stream",
     "text": [
      "def\n",
      "def\n"
     ]
    }
   ],
   "source": [
    "def somefun():\n",
    "    global f # global variavle\n",
    "    f=\"def\"\n",
    "    print(f)\n",
    "    \n",
    "somefun()\n",
    "print(f) # Now its Global variable"
   ]
  },
  {
   "cell_type": "code",
   "execution_count": 38,
   "id": "01e886d8",
   "metadata": {},
   "outputs": [
    {
     "ename": "NameError",
     "evalue": "name 'f' is not defined",
     "output_type": "error",
     "traceback": [
      "\u001b[1;31m---------------------------------------------------------------------------\u001b[0m",
      "\u001b[1;31mNameError\u001b[0m                                 Traceback (most recent call last)",
      "\u001b[1;32m~\\AppData\\Local\\Temp/ipykernel_4212/3282665638.py\u001b[0m in \u001b[0;36m<module>\u001b[1;34m\u001b[0m\n\u001b[0;32m      1\u001b[0m \u001b[1;32mdel\u001b[0m \u001b[0mf\u001b[0m\u001b[1;33m\u001b[0m\u001b[1;33m\u001b[0m\u001b[0m\n\u001b[1;32m----> 2\u001b[1;33m \u001b[0mprint\u001b[0m\u001b[1;33m(\u001b[0m\u001b[0mf\u001b[0m\u001b[1;33m)\u001b[0m\u001b[1;33m\u001b[0m\u001b[1;33m\u001b[0m\u001b[0m\n\u001b[0m",
      "\u001b[1;31mNameError\u001b[0m: name 'f' is not defined"
     ]
    }
   ],
   "source": [
    "del f    # variable is undefined/deleted during runtime\n",
    "print(f)"
   ]
  },
  {
   "cell_type": "markdown",
   "id": "2cdaa84e",
   "metadata": {},
   "source": [
    "# Functions"
   ]
  },
  {
   "cell_type": "code",
   "execution_count": 39,
   "id": "ddd156ac",
   "metadata": {},
   "outputs": [],
   "source": [
    "def fun1():                       # : colon is a scope in python, after colon indentaion work\n",
    "    print(\"I am a function\")"
   ]
  },
  {
   "cell_type": "code",
   "execution_count": 45,
   "id": "6b58c6cd",
   "metadata": {},
   "outputs": [
    {
     "name": "stdout",
     "output_type": "stream",
     "text": [
      "I am a function\n"
     ]
    }
   ],
   "source": [
    "fun1()"
   ]
  },
  {
   "cell_type": "code",
   "execution_count": 47,
   "id": "61f9fceb",
   "metadata": {},
   "outputs": [
    {
     "name": "stdout",
     "output_type": "stream",
     "text": [
      "<function fun1 at 0x000001F3643A8C10>\n"
     ]
    }
   ],
   "source": [
    "print(fun1)   # function defination"
   ]
  },
  {
   "cell_type": "code",
   "execution_count": 48,
   "id": "c6a8f70d",
   "metadata": {},
   "outputs": [],
   "source": [
    "# Function that takes Arguments"
   ]
  },
  {
   "cell_type": "code",
   "execution_count": 49,
   "id": "c16bee4b",
   "metadata": {},
   "outputs": [],
   "source": [
    "def fnc(arg1,arg2):\n",
    "    print(arg1,\" \",arg2)"
   ]
  },
  {
   "cell_type": "code",
   "execution_count": 50,
   "id": "d91425e3",
   "metadata": {},
   "outputs": [
    {
     "name": "stdout",
     "output_type": "stream",
     "text": [
      "10   20\n"
     ]
    }
   ],
   "source": [
    "fnc(10,20)"
   ]
  },
  {
   "cell_type": "code",
   "execution_count": 55,
   "id": "b5b02f73",
   "metadata": {},
   "outputs": [
    {
     "name": "stdout",
     "output_type": "stream",
     "text": [
      "10   20\n",
      "None\n"
     ]
    }
   ],
   "source": [
    "print(fnc(10,20))  # 'None' means that there is no return value in fnc()"
   ]
  },
  {
   "cell_type": "code",
   "execution_count": 56,
   "id": "558505c2",
   "metadata": {},
   "outputs": [],
   "source": [
    "# function that returns a value"
   ]
  },
  {
   "cell_type": "code",
   "execution_count": 57,
   "id": "b90aa0a5",
   "metadata": {},
   "outputs": [],
   "source": [
    "def cube(x):\n",
    "    return x*x*x"
   ]
  },
  {
   "cell_type": "code",
   "execution_count": 58,
   "id": "c1d9b585",
   "metadata": {},
   "outputs": [
    {
     "name": "stdout",
     "output_type": "stream",
     "text": [
      "27\n"
     ]
    }
   ],
   "source": [
    "print(cube(3))"
   ]
  },
  {
   "cell_type": "code",
   "execution_count": 59,
   "id": "4cc52709",
   "metadata": {},
   "outputs": [],
   "source": [
    "def power(num, x=1):\n",
    "    result=1\n",
    "    for i in range(x):          # run for loop x times\n",
    "        result = result*num     # 2*2*2\n",
    "    return result"
   ]
  },
  {
   "cell_type": "code",
   "execution_count": 63,
   "id": "f8112a5b",
   "metadata": {},
   "outputs": [
    {
     "name": "stdout",
     "output_type": "stream",
     "text": [
      "2\n"
     ]
    }
   ],
   "source": [
    "print(power(2))"
   ]
  },
  {
   "cell_type": "code",
   "execution_count": 64,
   "id": "865f211c",
   "metadata": {},
   "outputs": [
    {
     "name": "stdout",
     "output_type": "stream",
     "text": [
      "8\n"
     ]
    }
   ],
   "source": [
    "print(power(2,3))"
   ]
  },
  {
   "cell_type": "code",
   "execution_count": 65,
   "id": "3622bd2e",
   "metadata": {},
   "outputs": [
    {
     "name": "stdout",
     "output_type": "stream",
     "text": [
      "8\n"
     ]
    }
   ],
   "source": [
    "print(power(x=3,num=2))"
   ]
  },
  {
   "cell_type": "markdown",
   "id": "c06c6b3a",
   "metadata": {},
   "source": [
    "# First, range(x) is equivalent to range(0, x), and generates a sequence that ranges from 0 to x - 1. For example, with range(3) you get the sequence 0, 1, and 2, which has three elements. In general, range(x) generates a sequence that has x elements.\n",
    "\n",
    "# Second, for i in range(x) makes i iterates throught all the elements of range(x). Since range(x) has x elements, i will iterate through x different values, so the statements in the for loop will be executed x times."
   ]
  },
  {
   "cell_type": "code",
   "execution_count": 3,
   "id": "7fb390cf",
   "metadata": {},
   "outputs": [
    {
     "name": "stdout",
     "output_type": "stream",
     "text": [
      "12\n"
     ]
    }
   ],
   "source": [
    "# function with variable number of argument\n",
    "def mult_arg(*arg):\n",
    "    result=0\n",
    "    for i in arg:\n",
    "        result=result+i\n",
    "    return result\n",
    "\n",
    "\n",
    "print(mult_arg(4,4,4))"
   ]
  },
  {
   "cell_type": "markdown",
   "id": "19483510",
   "metadata": {},
   "source": [
    "# conditional structures"
   ]
  },
  {
   "cell_type": "code",
   "execution_count": 14,
   "id": "aec0916a",
   "metadata": {},
   "outputs": [
    {
     "name": "stdout",
     "output_type": "stream",
     "text": [
      "eclear views is more then mango views\n"
     ]
    }
   ],
   "source": [
    "def candi():\n",
    "    eclear,mango=66,46\n",
    "    \n",
    "    if(eclear<mango):\n",
    "        a=\"eclear views is less then mango views\"\n",
    "    elif(eclear==mango):\n",
    "        a=\"eclear views is equal to mango views\"\n",
    "    else:\n",
    "        a=\"eclear views is more then mango views\"\n",
    "    print(a)\n",
    "    \n",
    "    \n",
    "    \n",
    "    \n",
    "if __name__ == \"__main__\":\n",
    "    candi()"
   ]
  },
  {
   "cell_type": "code",
   "execution_count": 20,
   "id": "35fd950c",
   "metadata": {},
   "outputs": [
    {
     "name": "stdout",
     "output_type": "stream",
     "text": [
      "potato views is more then ladyfinger views or both are same\n"
     ]
    }
   ],
   "source": [
    "def veg():\n",
    "    patato,ladyfinger=46,46\n",
    "    \n",
    "    a=\"potato views is less then ladyfinger views\"if(patato<ladyfinger)else\"potato views is more then ladyfinger views or both are same\"\n",
    "    print(a)\n",
    "    \n",
    "    \n",
    "    \n",
    "    \n",
    "if __name__ == \"__main__\":\n",
    "    veg()"
   ]
  },
  {
   "cell_type": "markdown",
   "id": "a66c86f8",
   "metadata": {},
   "source": [
    "# loops\n"
   ]
  },
  {
   "cell_type": "code",
   "execution_count": 34,
   "id": "131b5c44",
   "metadata": {},
   "outputs": [
    {
     "name": "stdout",
     "output_type": "stream",
     "text": [
      "0\n",
      "1\n",
      "2\n",
      "3\n",
      "4\n",
      "........................................\n",
      "6\n",
      "........................................\n",
      "7\n",
      "........................................\n",
      "8\n"
     ]
    }
   ],
   "source": [
    "def b():\n",
    "    m=0\n",
    "    while(m<5):    # loops are iterated(times condition are true) using while keyword and loop terminates when iteration has false condition\n",
    "        print(m)\n",
    "        m=m+1\n",
    "        \n",
    "    \n",
    "    for f in range(6,9):\n",
    "        print(\"........................................\")\n",
    "        print(f)\n",
    "        \n",
    "if __name__ == \"__main__\":\n",
    "    b()"
   ]
  },
  {
   "cell_type": "code",
   "execution_count": 36,
   "id": "70fa796b",
   "metadata": {},
   "outputs": [
    {
     "name": "stdout",
     "output_type": "stream",
     "text": [
      "Mon\n",
      "Tue\n",
      "Wed\n",
      "Thu\n",
      "Fri\n",
      "Sat\n",
      "Sun\n"
     ]
    }
   ],
   "source": [
    "# use for loop for set of collection\n",
    "days=[\"Mon\",\"Tue\",\"Wed\",\"Thu\",\"Fri\",\"Sat\",\"Sun\"]\n",
    "for d in days:    # loop iterate over each element of days list\n",
    "    print(d)"
   ]
  },
  {
   "cell_type": "code",
   "execution_count": 40,
   "id": "cc3ad4c5",
   "metadata": {},
   "outputs": [
    {
     "name": "stdout",
     "output_type": "stream",
     "text": [
      "5\n",
      "6\n"
     ]
    }
   ],
   "source": [
    "#break statement\n",
    "for t in range(5,10):\n",
    "    if (t==7): break  # break the iteration\n",
    "    print(t)"
   ]
  },
  {
   "cell_type": "code",
   "execution_count": 43,
   "id": "f82255c9",
   "metadata": {},
   "outputs": [
    {
     "name": "stdout",
     "output_type": "stream",
     "text": [
      "5\n",
      "7\n",
      "9\n"
     ]
    }
   ],
   "source": [
    "#continue statement\n",
    "for p in range(5,10):\n",
    "    if (p%2==0): continue  # Continue the iteration\n",
    "    print(p)"
   ]
  },
  {
   "cell_type": "code",
   "execution_count": 45,
   "id": "5b48fe61",
   "metadata": {},
   "outputs": [
    {
     "name": "stdout",
     "output_type": "stream",
     "text": [
      "0 Mon\n",
      "1 Tue\n",
      "2 Wed\n",
      "3 Thu\n",
      "4 Fri\n",
      "5 Sat\n",
      "6 Sun\n"
     ]
    }
   ],
   "source": [
    "# use for loop for set of collection with enumerate function(1- item, 2- item)\n",
    "days=[\"Mon\",\"Tue\",\"Wed\",\"Thu\",\"Fri\",\"Sat\",\"Sun\"]\n",
    "for i,d in enumerate(days):    # loop iterate over each element of days list\n",
    "    print(i,d)"
   ]
  },
  {
   "cell_type": "markdown",
   "id": "02cdbfc8",
   "metadata": {},
   "source": [
    "# Classes"
   ]
  },
  {
   "cell_type": "code",
   "execution_count": 16,
   "id": "5aff4274",
   "metadata": {},
   "outputs": [
    {
     "name": "stdout",
     "output_type": "stream",
     "text": [
      "goind backword\n",
      "going forward\n",
      "going left ASad\n",
      "going forward\n",
      "SecondCar going forward\n"
     ]
    }
   ],
   "source": [
    "class Car():\n",
    "    def method_forward(self):\n",
    "        print(\"going forward\")\n",
    "    def method_backward(self):\n",
    "        print(\"goind backword\")\n",
    "    def method_right(self):\n",
    "        print(\"going rigth\")\n",
    "    def method_left(self,s):     # 's' is argument\n",
    "        print(\"going left \"+s) \n",
    "        \n",
    "class SecondCar(Car):           # going to inharit from class 'Car' \n",
    "    \n",
    "    def method_forward(self):\n",
    "        Car.method_forward(self)  # using method of previous class \n",
    "        print(\"SecondCar going forward\")\n",
    "    def method_backward(self):\n",
    "        print(\"SecondCar going backword\")\n",
    "        \n",
    "        \n",
    "\n",
    "def Complete_Project_Car():\n",
    "    a = Car()          # that will instanciate an 'object' instance of this class, 'a' is object\n",
    "    a.method_backward()\n",
    "    a.method_forward()\n",
    "    a.method_left(\"ASad\")\n",
    "    \n",
    "    a1 = SecondCar()\n",
    "    a1.method_forward()\n",
    "\n",
    "if __name__ == \"__main__\":\n",
    "    Complete_Project_Car()\n",
    "    "
   ]
  },
  {
   "cell_type": "code",
   "execution_count": null,
   "id": "7bf6bf4f",
   "metadata": {},
   "outputs": [],
   "source": []
  }
 ],
 "metadata": {
  "kernelspec": {
   "display_name": "Python 3 (ipykernel)",
   "language": "python",
   "name": "python3"
  },
  "language_info": {
   "codemirror_mode": {
    "name": "ipython",
    "version": 3
   },
   "file_extension": ".py",
   "mimetype": "text/x-python",
   "name": "python",
   "nbconvert_exporter": "python",
   "pygments_lexer": "ipython3",
   "version": "3.9.7"
  }
 },
 "nbformat": 4,
 "nbformat_minor": 5
}
